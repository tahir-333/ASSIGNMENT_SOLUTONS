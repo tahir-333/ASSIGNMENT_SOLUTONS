{
 "cells": [
  {
   "cell_type": "markdown",
   "metadata": {},
   "source": [
    "# BASIC CALCULATOR OPERATIONS IN PYTHON"
   ]
  },
  {
   "cell_type": "markdown",
   "metadata": {},
   "source": [
    "# 1. INPUT AND OPERATIONS"
   ]
  },
  {
   "cell_type": "code",
   "execution_count": null,
   "metadata": {},
   "outputs": [],
   "source": [
    "# If you are familiar with taking user input in Python, write a program that takes two numbers and an\n",
    "# operation (addition, subtraction, multiplication, or division) as input from the user and performs the\n",
    "# corresponding operation.\n",
    "\n",
    "\n",
    "first_number = int(input(\"Enter your first number\"))\n",
    "second_number = int(input(\"Enter your second number\"))\n",
    "operations = input(\"Select the operation you want to perform: (+, -, *, /)\")\n",
    "\n",
    "if operations == \"+\":\n",
    "    sum = first_number + second_number\n",
    "    print(f\"The sum of {first_number} and {second_number} is {sum}. \")\n",
    "    \n",
    "elif operations == \"-\":\n",
    "    subtraction = first_number - second_number\n",
    "    print(f\"The subtraction of {first_number} and {second_number} is {subtraction}.\")\n",
    "    \n",
    "elif operations == \"*\":\n",
    "    Multiplication = first_number * second_number\n",
    "    print(f\"The Multiplication of {first_number} and {second_number} is {Multiplication}.\") \n",
    "    \n",
    "elif operations == \"/\":\n",
    "    if second_number != 0:\n",
    "        Division = first_number / second_number\n",
    "        print(f\"The Division of {first_number} and {second_number} is {Division}.\")\n",
    "        \n",
    "    else:\n",
    "        print(\"Error: Division by Zero '0' is not allowed.\")\n",
    "        \n",
    "    # if first_number == \"0\":\n",
    "    #     Division = first_number / second_number\n",
    "    #     print(\"0\")\n",
    "        \n",
    "else:\n",
    "    print(\"Please the the valid operator.\")"
   ]
  },
  {
   "cell_type": "markdown",
   "metadata": {},
   "source": [
    " # ADDITION (+)"
   ]
  },
  {
   "cell_type": "code",
   "execution_count": 19,
   "metadata": {},
   "outputs": [
    {
     "name": "stdout",
     "output_type": "stream",
     "text": [
      "The sum of 5 and 5 is 10. \n"
     ]
    }
   ],
   "source": [
    "first_number = int(input(\"Enter your first number\"))\n",
    "second_number = int(input(\"Enter your second number\"))\n",
    "operations = input(\"Select the operation you want to perform: (+, -, *, /)\")\n",
    "\n",
    "if operations == \"+\":\n",
    "    sum = first_number + second_number\n",
    "    print(f\"The sum of {first_number} and {second_number} is {sum}. \")\n",
    "    \n",
    "elif operations == \"-\":\n",
    "    subtraction = first_number - second_number\n",
    "    print(f\"The subtraction of {first_number} and {second_number} is {subtraction}.\")\n",
    "    \n",
    "elif operations == \"*\":\n",
    "    Multiplication = first_number * second_number\n",
    "    print(f\"The Multiplication of {first_number} and {second_number} is {Multiplication}.\") \n",
    "    \n",
    "elif operations == \"/\":\n",
    "    if second_number != 0:\n",
    "        Division = first_number / second_number\n",
    "        print(f\"The Division of {first_number} and {second_number} is {Division}.\")\n",
    "        \n",
    "    else:\n",
    "        print(\"Error: Division by Zero '0' is not allowed.\")\n",
    "        \n",
    "    # if first_number == \"0\":\n",
    "    #     Division = first_number / second_number\n",
    "    #     print(\"0\")\n",
    "        \n",
    "else:\n",
    "    print(\"Please the the valid operator.\")"
   ]
  },
  {
   "cell_type": "markdown",
   "metadata": {},
   "source": [
    "# SUBTRACTION (-)"
   ]
  },
  {
   "cell_type": "code",
   "execution_count": 20,
   "metadata": {},
   "outputs": [
    {
     "name": "stdout",
     "output_type": "stream",
     "text": [
      "The subtraction of 10 and 2 is 8.\n"
     ]
    }
   ],
   "source": [
    "first_number = int(input(\"Enter your first number\"))\n",
    "second_number = int(input(\"Enter your second number\"))\n",
    "operations = input(\"Select the operation you want to perform: (+, -, *, /)\")\n",
    "\n",
    "if operations == \"+\":\n",
    "    sum = first_number + second_number\n",
    "    print(f\"The sum of {first_number} and {second_number} is {sum}. \")\n",
    "    \n",
    "elif operations == \"-\":\n",
    "    subtraction = first_number - second_number\n",
    "    print(f\"The subtraction of {first_number} and {second_number} is {subtraction}.\")\n",
    "    \n",
    "elif operations == \"*\":\n",
    "    Multiplication = first_number * second_number\n",
    "    print(f\"The Multiplication of {first_number} and {second_number} is {Multiplication}.\") \n",
    "    \n",
    "elif operations == \"/\":\n",
    "    if second_number != 0:\n",
    "        Division = first_number / second_number\n",
    "        print(f\"The Division of {first_number} and {second_number} is {Division}.\")\n",
    "        \n",
    "    else:\n",
    "        print(\"Error: Division by Zero '0' is not allowed.\")\n",
    "        \n",
    "    # if first_number == \"0\":\n",
    "    #     Division = first_number / second_number\n",
    "    #     print(\"0\")\n",
    "        \n",
    "else:\n",
    "    print(\"Please the the valid operator.\")"
   ]
  },
  {
   "cell_type": "markdown",
   "metadata": {},
   "source": [
    "# MULTIPLICATION (*)"
   ]
  },
  {
   "cell_type": "code",
   "execution_count": 21,
   "metadata": {},
   "outputs": [
    {
     "name": "stdout",
     "output_type": "stream",
     "text": [
      "The Multiplication of 5 and 5 is 25.\n"
     ]
    }
   ],
   "source": [
    "first_number = int(input(\"Enter your first number\"))\n",
    "second_number = int(input(\"Enter your second number\"))\n",
    "operations = input(\"Select the operation you want to perform: (+, -, *, /)\")\n",
    "\n",
    "if operations == \"+\":\n",
    "    sum = first_number + second_number\n",
    "    print(f\"The sum of {first_number} and {second_number} is {sum}. \")\n",
    "    \n",
    "elif operations == \"-\":\n",
    "    subtraction = first_number - second_number\n",
    "    print(f\"The subtraction of {first_number} and {second_number} is {subtraction}.\")\n",
    "    \n",
    "elif operations == \"*\":\n",
    "    Multiplication = first_number * second_number\n",
    "    print(f\"The Multiplication of {first_number} and {second_number} is {Multiplication}.\") \n",
    "    \n",
    "elif operations == \"/\":\n",
    "    if second_number != 0:\n",
    "        Division = first_number / second_number\n",
    "        print(f\"The Division of {first_number} and {second_number} is {Division}.\")\n",
    "        \n",
    "    else:\n",
    "        print(\"Error: Division by Zero '0' is not allowed.\")\n",
    "        \n",
    "    # if first_number == \"0\":\n",
    "    #     Division = first_number / second_number\n",
    "    #     print(\"0\")\n",
    "        \n",
    "else:\n",
    "    print(\"Please the the valid operator.\")"
   ]
  },
  {
   "cell_type": "markdown",
   "metadata": {},
   "source": [
    "# DIVISION (/)"
   ]
  },
  {
   "cell_type": "code",
   "execution_count": 22,
   "metadata": {},
   "outputs": [
    {
     "name": "stdout",
     "output_type": "stream",
     "text": [
      "The Division of 10 and 5 is 2.0.\n"
     ]
    }
   ],
   "source": [
    "# Simple Division of two numbers.\n",
    "\n",
    "\n",
    "first_number = int(input(\"Enter your first number\"))\n",
    "second_number = int(input(\"Enter your second number\"))\n",
    "operations = input(\"Select the operation you want to perform: (+, -, *, /)\")\n",
    "\n",
    "if operations == \"+\":\n",
    "    sum = first_number + second_number\n",
    "    print(f\"The sum of {first_number} and {second_number} is {sum}. \")\n",
    "    \n",
    "elif operations == \"-\":\n",
    "    subtraction = first_number - second_number\n",
    "    print(f\"The subtraction of {first_number} and {second_number} is {subtraction}.\")\n",
    "    \n",
    "elif operations == \"*\":\n",
    "    Multiplication = first_number * second_number\n",
    "    print(f\"The Multiplication of {first_number} and {second_number} is {Multiplication}.\") \n",
    "    \n",
    "elif operations == \"/\":\n",
    "    if second_number != 0:\n",
    "        Division = first_number / second_number\n",
    "        print(f\"The Division of {first_number} and {second_number} is {Division}.\")\n",
    "        \n",
    "    else:\n",
    "        print(\"Error: Division by Zero '0' is not allowed.\")\n",
    "        \n",
    "    # if first_number == \"0\":\n",
    "    #     Division = first_number / second_number\n",
    "    #     print(\"0\")\n",
    "        \n",
    "else:\n",
    "    print(\"Please the the valid operator.\")"
   ]
  },
  {
   "cell_type": "code",
   "execution_count": 23,
   "metadata": {},
   "outputs": [
    {
     "name": "stdout",
     "output_type": "stream",
     "text": [
      "Error: Division by Zero '0' is not allowed.\n"
     ]
    }
   ],
   "source": [
    "# Division of a number by zero \"0\"\n",
    "\n",
    "\n",
    "\n",
    "first_number = int(input(\"Enter your first number\"))\n",
    "second_number = int(input(\"Enter your second number\"))\n",
    "operations = input(\"Select the operation you want to perform: (+, -, *, /)\")\n",
    "\n",
    "if operations == \"+\":\n",
    "    sum = first_number + second_number\n",
    "    print(f\"The sum of {first_number} and {second_number} is {sum}. \")\n",
    "    \n",
    "elif operations == \"-\":\n",
    "    subtraction = first_number - second_number\n",
    "    print(f\"The subtraction of {first_number} and {second_number} is {subtraction}.\")\n",
    "    \n",
    "elif operations == \"*\":\n",
    "    Multiplication = first_number * second_number\n",
    "    print(f\"The Multiplication of {first_number} and {second_number} is {Multiplication}.\") \n",
    "    \n",
    "elif operations == \"/\":\n",
    "    if second_number != 0:\n",
    "        Division = first_number / second_number\n",
    "        print(f\"The Division of {first_number} and {second_number} is {Division}.\")\n",
    "        \n",
    "    else:\n",
    "        print(\"Error: Division by Zero '0' is not allowed.\")\n",
    "        \n",
    "    # if first_number == \"0\":\n",
    "    #     Division = first_number / second_number\n",
    "    #     print(\"0\")\n",
    "        \n",
    "else:\n",
    "    print(\"Please the the valid operator.\")"
   ]
  },
  {
   "cell_type": "code",
   "execution_count": 24,
   "metadata": {},
   "outputs": [
    {
     "name": "stdout",
     "output_type": "stream",
     "text": [
      "The Division of 0 and 50 is 0.0.\n"
     ]
    }
   ],
   "source": [
    "# Division of zero \"0\" by a number.\n",
    "\n",
    "\n",
    "first_number = int(input(\"Enter your first number\"))\n",
    "second_number = int(input(\"Enter your second number\"))\n",
    "operations = input(\"Select the operation you want to perform: (+, -, *, /)\")\n",
    "\n",
    "if operations == \"+\":\n",
    "    sum = first_number + second_number\n",
    "    print(f\"The sum of {first_number} and {second_number} is {sum}. \")\n",
    "    \n",
    "elif operations == \"-\":\n",
    "    subtraction = first_number - second_number\n",
    "    print(f\"The subtraction of {first_number} and {second_number} is {subtraction}.\")\n",
    "    \n",
    "elif operations == \"*\":\n",
    "    Multiplication = first_number * second_number\n",
    "    print(f\"The Multiplication of {first_number} and {second_number} is {Multiplication}.\") \n",
    "    \n",
    "elif operations == \"/\":\n",
    "    if second_number != 0:\n",
    "        Division = first_number / second_number\n",
    "        print(f\"The Division of {first_number} and {second_number} is {Division}.\")\n",
    "        \n",
    "    else:\n",
    "        print(\"Error: Division by Zero '0' is not allowed.\")\n",
    "        \n",
    "    # if first_number == \"0\":\n",
    "    #     Division = first_number / second_number\n",
    "    #     print(\"0\")\n",
    "        \n",
    "else:\n",
    "    print(\"Please the the valid operator.\")"
   ]
  }
 ],
 "metadata": {
  "kernelspec": {
   "display_name": "Python 3",
   "language": "python",
   "name": "python3"
  },
  "language_info": {
   "codemirror_mode": {
    "name": "ipython",
    "version": 3
   },
   "file_extension": ".py",
   "mimetype": "text/x-python",
   "name": "python",
   "nbconvert_exporter": "python",
   "pygments_lexer": "ipython3",
   "version": "3.12.7"
  }
 },
 "nbformat": 4,
 "nbformat_minor": 2
}
