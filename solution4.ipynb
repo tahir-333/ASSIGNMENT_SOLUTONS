{
 "cells": [
  {
   "cell_type": "markdown",
   "metadata": {},
   "source": [
    "# PYTHON EXERCISES ON LISTS"
   ]
  },
  {
   "cell_type": "markdown",
   "metadata": {},
   "source": [
    "# EXERCISE 3-1: NAMES"
   ]
  },
  {
   "cell_type": "code",
   "execution_count": 5,
   "metadata": {},
   "outputs": [
    {
     "name": "stdout",
     "output_type": "stream",
     "text": [
      "Ali\n",
      "Amir\n",
      "Aslam\n"
     ]
    }
   ],
   "source": [
    "# ● Task: Store the names of a few of your friends in a list called names. Print each person’s\n",
    "# name by accessing each element in the list, one at a time.\n",
    "\n",
    "names = [\"Ali\", \"Amir\", \"Aslam\"]\n",
    "print(names[0])\n",
    "print(names[1])\n",
    "print(names[2])"
   ]
  },
  {
   "cell_type": "markdown",
   "metadata": {},
   "source": [
    "# EXERCISE 3-2: GREETINGS"
   ]
  },
  {
   "cell_type": "code",
   "execution_count": 9,
   "metadata": {},
   "outputs": [
    {
     "name": "stdout",
     "output_type": "stream",
     "text": [
      "Hello Ali, How are you?\n",
      "Hello Amir, How are you?\n",
      "Hello Aslam, How are you?\n"
     ]
    }
   ],
   "source": [
    "# ● Task: Start with the list you used in Exercise 3-1. Instead of just printing each person’s\n",
    "# name, print a message to them. The text of each message should be the same, but each\n",
    "# message should be personalized with the person’s name.\n",
    "\n",
    "message = f\"Hello {names[0]}, How are you?\"\n",
    "print(message)\n",
    "message = f\"Hello {names[1]}, How are you?\"\n",
    "print(message)\n",
    "message = f\"Hello {names[2]}, How are you?\"\n",
    "print(message)"
   ]
  },
  {
   "cell_type": "markdown",
   "metadata": {},
   "source": [
    "# EXERCISE 3-3: YOUR OWN LIST"
   ]
  },
  {
   "cell_type": "code",
   "execution_count": 86,
   "metadata": {},
   "outputs": [
    {
     "name": "stdout",
     "output_type": "stream",
     "text": [
      "I would like to own Rolls Royce.\n",
      "I would like to own Mercedes.\n",
      "I would like to own Bugatti.\n"
     ]
    }
   ],
   "source": [
    "# ● Task: Think of your favorite mode of transportation, such as a motorcycle or a car, and\n",
    "# make a list that stores several examples. Use your list to print a series of statements\n",
    "# about these items, such as “I would like to own a Honda motorcycle.”\n",
    "\n",
    "\n",
    "cars = [\"Rolls Royce\", \"Mercedes\", \"Bugatti\"]\n",
    "# statement = f\"I would like to own {cars[0]}.\"\n",
    "# print(statement)\n",
    "print(f\"I would like to own {cars[0]}.\")\n",
    "print(f\"I would like to own {cars[1]}.\")\n",
    "print(f\"I would like to own {cars[2]}.\")"
   ]
  },
  {
   "cell_type": "markdown",
   "metadata": {},
   "source": [
    "# EXERCISE 3-4: GUEST LIST"
   ]
  },
  {
   "cell_type": "code",
   "execution_count": 116,
   "metadata": {},
   "outputs": [
    {
     "name": "stdout",
     "output_type": "stream",
     "text": [
      "Hello, Ali! I am going to invite you for dinner at my home tonight.\n",
      "Hello, Aslam! I am going to invite you for dinner at my home tonight.\n",
      "Hello, Amir! I am going to invite you for dinner at my home tonight.\n"
     ]
    }
   ],
   "source": [
    "# ● Task: If you could invite anyone, living or deceased, to dinner, who would you invite?\n",
    "# Make a list that includes at least three people you’d like to invite to dinner. Then use your\n",
    "# list to print a message to each person, inviting them to dinner.\n",
    "\n",
    "invitations = [\"Ali\", \"Aslam\", \"Amir\"]\n",
    "for invitation in invitations:\n",
    "    print(f\"Hello, {invitation}! I am going to invite you for dinner at my home tonight.\")"
   ]
  },
  {
   "cell_type": "markdown",
   "metadata": {},
   "source": [
    "# EXERCISE 3-5: CHANGING GUEST LIST"
   ]
  },
  {
   "cell_type": "code",
   "execution_count": 117,
   "metadata": {},
   "outputs": [
    {
     "name": "stdout",
     "output_type": "stream",
     "text": [
      "['Ali', 'Aslam', 'Amir']\n",
      "\n",
      "Aslam is not available tonight, so i going to invite Amar for dinner instead of Aslam.\n",
      "\n",
      " Here is the modified list:\n",
      "['Ali', 'Amar', 'Amir']\n",
      "Hello Ali! I am going to invite you for dinner at my home tonight.\n",
      "Hello Amar! I am going to invite you for dinner at my home tonight.\n",
      "Hello Amir! I am going to invite you for dinner at my home tonight.\n"
     ]
    }
   ],
   "source": [
    "# ● Task: Start with your program from Exercise 3-4. Add a print() call at the end of your\n",
    "# program, stating the name of the guest who can’t make it. Modify your list, replacing the\n",
    "# name of the guest who can’t make it with the name of the new person you are inviting.\n",
    "# Print a second set of invitation messages, one for each person who is still in your list.\n",
    "\n",
    "\n",
    "print(invitations)\n",
    "print(\"\\nAslam is not available tonight, so i going to invite Amar for dinner instead of Aslam.\")\n",
    "invitations[1] = \"Amar\"\n",
    "print(\"\\n Here is the modified list:\")\n",
    "print(invitations)\n",
    "for invitation in invitations:\n",
    "    print(f\"Hello {invitation}! I am going to invite you for dinner at my home tonight.\")"
   ]
  },
  {
   "cell_type": "markdown",
   "metadata": {},
   "source": [
    "# EXERCISE 3-6: MORE GUESTS"
   ]
  },
  {
   "cell_type": "code",
   "execution_count": 118,
   "metadata": {},
   "outputs": [
    {
     "name": "stdout",
     "output_type": "stream",
     "text": [
      "Hello, everybody i found a big table for dinner, so i am going to invite three more friend.\n",
      "\n",
      " Here is the new list:\n",
      "['Kashif', 'Ali', 'Saqib', 'Amar', 'Amir', 'Saqlain']\n",
      "Hello, Kashif! I am going to invite you for dinner tonight.\n",
      "Hello, Ali! I am going to invite you for dinner tonight.\n",
      "Hello, Saqib! I am going to invite you for dinner tonight.\n",
      "Hello, Amar! I am going to invite you for dinner tonight.\n",
      "Hello, Amir! I am going to invite you for dinner tonight.\n",
      "Hello, Saqlain! I am going to invite you for dinner tonight.\n"
     ]
    }
   ],
   "source": [
    "# ● Task: Start with your program from Exercise 3-4 or 3-5. Add a print() call to the end\n",
    "# of your program, informing people that you found a bigger table. Use insert() to add\n",
    "# one new guest to the beginning of your list. Use insert() to add one new guest to the\n",
    "# middle of your list. Use append() to add one new guest to the end of your list. Print a\n",
    "# new set of invitation messages, one for each person in your list.\n",
    "\n",
    "\n",
    "# print(invitations)\n",
    "print(\"Hello, everybody i found a big table for dinner, so i am going to invite three more friend.\")\n",
    "print(\"\\n Here is the new list:\")\n",
    "invitations.insert(0, \"Kashif\")\n",
    "invitations.insert(2, \"Saqib\")\n",
    "invitations.append(\"Saqlain\")\n",
    "print(invitations)\n",
    "for invitation in invitations:\n",
    "    print(f\"Hello, {invitation}! I am going to invite you for dinner tonight.\")"
   ]
  },
  {
   "cell_type": "markdown",
   "metadata": {},
   "source": [
    "# EXERCISE 3-7: SHRINKING GUEST LIST"
   ]
  },
  {
   "cell_type": "code",
   "execution_count": 119,
   "metadata": {},
   "outputs": [
    {
     "name": "stdout",
     "output_type": "stream",
     "text": [
      "I am sorry, i can invite only two among you.\n",
      "I am sorry Saqlain, I cannot invite you for dinner.\n",
      "I am sorry Amir, I cannot invite you for dinner.\n",
      "I am sorry Amar, I cannot invite you for dinner.\n",
      "I am sorry Saqlain, I cannot invite you for the dinner.\n",
      "\n",
      "Here is the list after popping:\n",
      "['Kashif', 'Ali']\n",
      "\n",
      "Invitation to left two guests in the list:\n",
      "Kashif, You are still invited for dinner.\n",
      "Ali, You are still invited for dinner.\n",
      "\n",
      "Here is the the empty list: \n",
      "[]\n"
     ]
    }
   ],
   "source": [
    "# ● Task: Start with your program from Exercise 3-6. Add a new line that prints a message\n",
    "# saying that you can invite only two people for dinner. Use pop() to remove guests from\n",
    "# your list one at a time until only two names remain in your list. Each time you pop a\n",
    "# name from your list, print a message to that person letting them know you’re sorry you\n",
    "# can’t invite them to dinner. Print a message to each of the two people still on your list,\n",
    "# letting them know they’re still invited. Use del to remove the last two names from your\n",
    "# list, so you have an empty list. Print your list to make sure you actually have an empty\n",
    "# list at the end of your program.\n",
    "\n",
    "print(\"I am sorry, i can invite only two among you.\")\n",
    "popped = invitations.pop()\n",
    "print(f\"I am sorry {popped}, I cannot invite you for dinner.\")\n",
    "popped = invitations.pop()\n",
    "print(f\"I am sorry {popped}, I cannot invite you for dinner.\")\n",
    "popped = invitations.pop()\n",
    "print(f\"I am sorry {popped}, I cannot invite you for dinner.\")\n",
    "popped = invitations.pop()\n",
    "print(f\"I am sorry {invitation}, I cannot invite you for the dinner.\")\n",
    "\n",
    "print(\"\\nHere is the list after popping:\")\n",
    "print(invitations)\n",
    "print(\"\\nInvitation to left two guests in the list:\")\n",
    "for invitation in invitations:\n",
    "    print(f\"{invitation}, You are still invited for dinner.\")\n",
    "    \n",
    "del invitations[0:2]\n",
    "print(\"\\nHere is the the empty list: \")\n",
    "print(invitations)"
   ]
  },
  {
   "cell_type": "markdown",
   "metadata": {},
   "source": [
    "# EXERCISE 3-8: SEEING THE WORLD"
   ]
  },
  {
   "cell_type": "code",
   "execution_count": 138,
   "metadata": {},
   "outputs": [
    {
     "name": "stdout",
     "output_type": "stream",
     "text": [
      "Here is the original list:\n",
      "['Switzerland', 'Madina', 'Kashmir']\n",
      "\n",
      "Here is the ordered list:\n",
      "['Kashmir', 'Madina', 'Switzerland']\n",
      "\n",
      " Here is the original list again:\n",
      "['Switzerland', 'Madina', 'Kashmir']\n",
      "\n",
      " Here is the reverse ordered list:\n",
      "['Kashmir', 'Madina', 'Switzerland']\n",
      "\n",
      " Here is the original list again:\n",
      "['Kashmir', 'Madina', 'Switzerland']\n",
      "\n",
      " Here is reverse ordered list again:\n",
      "['Switzerland', 'Madina', 'Kashmir']\n",
      "\n",
      " Here is the original list:\n",
      "['Switzerland', 'Madina', 'Kashmir']\n",
      "\n",
      " Here is the sorted list:\n",
      "['Kashmir', 'Madina', 'Switzerland']\n",
      "\n",
      " Here is the changed ordered list:\n",
      "['Kashmir', 'Madina', 'Switzerland']\n",
      "\n",
      " Here is the reversed ordered list again:\n",
      "['Switzerland', 'Madina', 'Kashmir']\n",
      "\n",
      " Here is the list again:\n",
      "['Switzerland', 'Madina', 'Kashmir']\n"
     ]
    }
   ],
   "source": [
    " # ● Task: Think of at least five places in the world you’d like to visit. Store the locations in a\n",
    "# list. Make sure the list is not in alphabetical order. Print your list in its original order. Don’t\n",
    "# worry about printing the list neatly; just print it as a raw Python list. Use sorted() to\n",
    "# print your list in alphabetical order without modifying the actual list. Show that your list is\n",
    "# still in its original order by printing it. Use sorted() to print your list in\n",
    "# reverse-alphabetical order without changing the order of the original list. Show that your\n",
    "# list is still in its original order by printing it again. Use reverse() to change the order of\n",
    "# your list. Print the list to show that its order has changed. Use reverse() to change the\n",
    "# order of your list again. Print the list to show it’s back to its original order. Use sort() to\n",
    "# change your list so it’s stored in alphabetical order. Print the list to show that its order\n",
    "# has been changed. Use sort() to change your list so it’s stored in reverse-alphabetical\n",
    "# order. Print the list to show that its order has changed.\n",
    "\n",
    "\n",
    "\n",
    "locations = [\"Switzerland\", \"Madina\", \"Kashmir\"]\n",
    "print(\"Here is the original list:\")\n",
    "print(locations)\n",
    "print(\"\\nHere is the ordered list:\")\n",
    "print(sorted(locations))\n",
    "print(\"\\n Here is the original list again:\")\n",
    "print(locations)\n",
    "print(\"\\n Here is the reverse ordered list:\")\n",
    "locations.reverse()\n",
    "print(locations)\n",
    "print(\"\\n Here is the original list again:\")\n",
    "print(locations)\n",
    "print(\"\\n Here is reverse ordered list again:\")\n",
    "locations.reverse()\n",
    "print(locations)\n",
    "print(\"\\n Here is the original list:\")\n",
    "print(locations)\n",
    "print(\"\\n Here is the sorted list:\")\n",
    "locations.sort()\n",
    "print(locations)\n",
    "print(\"\\n Here is the changed ordered list:\")\n",
    "print(locations)\n",
    "print(\"\\n Here is the reversed ordered list again:\")\n",
    "locations.reverse()\n",
    "print(locations)\n",
    "print(\"\\n Here is the list again:\")\n",
    "print(locations)\n"
   ]
  },
  {
   "cell_type": "markdown",
   "metadata": {},
   "source": [
    "# EXERCISE 3-10: INTENTIONAL ERROR"
   ]
  },
  {
   "cell_type": "code",
   "execution_count": 145,
   "metadata": {},
   "outputs": [
    {
     "ename": "IndexError",
     "evalue": "list index out of range",
     "output_type": "error",
     "traceback": [
      "\u001b[1;31m---------------------------------------------------------------------------\u001b[0m",
      "\u001b[1;31mIndexError\u001b[0m                                Traceback (most recent call last)",
      "Cell \u001b[1;32mIn[145], line 6\u001b[0m\n\u001b[0;32m      1\u001b[0m \u001b[38;5;66;03m# ● Task: If you haven’t received an index error in one of your programs yet, try to make one\u001b[39;00m\n\u001b[0;32m      2\u001b[0m \u001b[38;5;66;03m# happen. Change an index in one of your programs to produce an index error. Make sure\u001b[39;00m\n\u001b[0;32m      3\u001b[0m \u001b[38;5;66;03m# you correct the error before closing the program.\u001b[39;00m\n\u001b[0;32m      5\u001b[0m names \u001b[38;5;241m=\u001b[39m [\u001b[38;5;124m\"\u001b[39m\u001b[38;5;124mAslam\u001b[39m\u001b[38;5;124m\"\u001b[39m, \u001b[38;5;124m\"\u001b[39m\u001b[38;5;124mAsif\u001b[39m\u001b[38;5;124m\"\u001b[39m, \u001b[38;5;124m\"\u001b[39m\u001b[38;5;124mAmar\u001b[39m\u001b[38;5;124m\"\u001b[39m]\n\u001b[1;32m----> 6\u001b[0m \u001b[38;5;28mprint\u001b[39m(\u001b[43mnames\u001b[49m\u001b[43m[\u001b[49m\u001b[38;5;241;43m3\u001b[39;49m\u001b[43m]\u001b[49m)\n",
      "\u001b[1;31mIndexError\u001b[0m: list index out of range"
     ]
    }
   ],
   "source": [
    "# ● Task: If you haven’t received an index error in one of your programs yet, try to make one\n",
    "# happen. Change an index in one of your programs to produce an index error. Make sure\n",
    "# you correct the error before closing the program.\n",
    "\n",
    "names = [\"Aslam\", \"Asif\", \"Amar\"]\n",
    "print(names[3])"
   ]
  },
  {
   "cell_type": "code",
   "execution_count": 147,
   "metadata": {},
   "outputs": [
    {
     "name": "stdout",
     "output_type": "stream",
     "text": [
      "Amar\n"
     ]
    }
   ],
   "source": [
    "# Correction of the index error.\n",
    "\n",
    "names = [\"Aslam\", \"Asif\", \"Amar\"]\n",
    "print(names[2])"
   ]
  }
 ],
 "metadata": {
  "kernelspec": {
   "display_name": "Python 3",
   "language": "python",
   "name": "python3"
  },
  "language_info": {
   "codemirror_mode": {
    "name": "ipython",
    "version": 3
   },
   "file_extension": ".py",
   "mimetype": "text/x-python",
   "name": "python",
   "nbconvert_exporter": "python",
   "pygments_lexer": "ipython3",
   "version": "3.12.7"
  }
 },
 "nbformat": 4,
 "nbformat_minor": 2
}
