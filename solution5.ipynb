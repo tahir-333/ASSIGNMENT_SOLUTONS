{
 "cells": [
  {
   "cell_type": "markdown",
   "metadata": {},
   "source": [
    "# EXPLORING PYTHON LIST METHODS"
   ]
  },
  {
   "cell_type": "markdown",
   "metadata": {},
   "source": [
    "# 1. APPEND\n",
    "* This method is used to add a new element at the end of an existing list.\n",
    "# SYNTAX\n",
    "```\n",
    "list-name.append(\"element\")\n",
    "```\n",
    "* LIST\n",
    "    * The list to which you want to add an element.\n",
    "* ELEMENT\n",
    "    * The item you want to append to the end of the list. This can be of any data type (e.g., number, string, another list, etc.).\n",
    "# RETURN TYPE\n",
    "* None"
   ]
  },
  {
   "cell_type": "code",
   "execution_count": 7,
   "metadata": {},
   "outputs": [
    {
     "name": "stdout",
     "output_type": "stream",
     "text": [
      "['Apple', 'Cherry', 'Banana']\n",
      "None\n",
      "['Apple', 'Cherry', 'Banana', 'Apricot']\n"
     ]
    }
   ],
   "source": [
    "fruits = [\"Apple\", \"Cherry\", \"Banana\"]\n",
    "print(fruits)\n",
    "result = fruits.append(\"Apricot\")                                          # Append return None.\n",
    "print(result)\n",
    "print(fruits)\n"
   ]
  },
  {
   "cell_type": "markdown",
   "metadata": {},
   "source": [
    "# 2. INSERT\n",
    "* This method is used to add new element in an existing list.\n",
    "* We can also specify the position of new element in an existing list by using index. \n",
    "\n",
    "# SYNTAX\n",
    "```\n",
    "list-name.insert(index, \"element\")\n",
    "```\n",
    "# RETURN TYPE\n",
    "* None\n",
    "\n",
    "\n"
   ]
  },
  {
   "cell_type": "code",
   "execution_count": 11,
   "metadata": {},
   "outputs": [
    {
     "name": "stdout",
     "output_type": "stream",
     "text": [
      "None\n",
      "['Apricot', 'Apple', 'Banana', 'Cherry']\n"
     ]
    }
   ],
   "source": [
    "fruits = [\"Apple\", \"Banana\", \"Cherry\"]\n",
    "result = fruits.insert(0, \"Apricot\")                                           # Insert return None.\n",
    "print(result)\n",
    "print(fruits)"
   ]
  },
  {
   "cell_type": "markdown",
   "metadata": {},
   "source": [
    "# 3. REMOVE\n",
    "* This method is used to remove/delete  any element from list by specifying that element.\n",
    "* In this method element is permanently deleted, and we have no excess to that element. \n",
    "# SYNTAX\n",
    "```\n",
    "list-name.remove(\"element\")\n",
    "```\n",
    "# RETURN TYPE\n",
    "* None\n"
   ]
  },
  {
   "cell_type": "code",
   "execution_count": 27,
   "metadata": {},
   "outputs": [
    {
     "name": "stdout",
     "output_type": "stream",
     "text": [
      "['Apple', 'Banana', 'Cherry']\n",
      "None\n",
      "['Apple', 'Cherry']\n"
     ]
    }
   ],
   "source": [
    "fruits = [\"Apple\", \"Banana\", \"Cherry\"]\n",
    "print(fruits)\n",
    "result = fruits.remove(\"Banana\")                                                  # Remove return None.\n",
    "print(result)\n",
    "print(fruits)\n"
   ]
  },
  {
   "cell_type": "markdown",
   "metadata": {},
   "source": [
    "# 4. POP\n",
    "* This method is used to  remove an element from the end of a list, but by using index we can remove specific element from the list.\n",
    "* In this method element is not permanently removed, we can have excess to the removed/popped element.\n",
    "# SYNTAX\n",
    "```\n",
    "list-name.pop()\n",
    "```\n",
    "```list-name.pop(Any index number)\n",
    "```\n",
    "# RETURN TYPE\n",
    "* The return type of pop() is the type of the element that was removed (e.g., int, str, etc.)\n",
    "\n"
   ]
  },
  {
   "cell_type": "code",
   "execution_count": 32,
   "metadata": {},
   "outputs": [
    {
     "name": "stdout",
     "output_type": "stream",
     "text": [
      "['Apple', 'Banana', 'Cherry']\n",
      "Cherry\n",
      "['Apple', 'Banana']\n"
     ]
    }
   ],
   "source": [
    "fruits = [\"Apple\", \"Banana\", \"Cherry\"]\n",
    "print(fruits)\n",
    "popped = fruits.pop()                                                   # Pop return the value.\n",
    "print(popped)\n",
    "print(fruits)"
   ]
  },
  {
   "cell_type": "code",
   "execution_count": 33,
   "metadata": {},
   "outputs": [
    {
     "name": "stdout",
     "output_type": "stream",
     "text": [
      "['Apple', 'Cherry']\n"
     ]
    }
   ],
   "source": [
    "fruits = [\"Apple\", \"Banana\", \"Cherry\"]\n",
    "fruits.pop(1)                                                   # Removing specific element from the list.\n",
    "print(fruits) "
   ]
  },
  {
   "cell_type": "markdown",
   "metadata": {},
   "source": [
    "# 5. EXTEND\n",
    "* This method is used to add the elements of a new list to a previous list.\n",
    "# SYNTAX\n",
    "```\n",
    "list-name.extend(list-name)\n",
    "```\n",
    "# RETURN TYPE\n",
    "* None"
   ]
  },
  {
   "cell_type": "code",
   "execution_count": 38,
   "metadata": {},
   "outputs": [
    {
     "name": "stdout",
     "output_type": "stream",
     "text": [
      "['Apple', 'Banana', 'Cherry']\n",
      "None\n",
      "['Apple', 'Banana', 'Cherry', 'Apricot', 'Water Melon']\n"
     ]
    }
   ],
   "source": [
    "fruits = [\"Apple\", \"Banana\", \"Cherry\"]\n",
    "print(fruits)\n",
    "fruits1 = [\"Apricot\", \"Water Melon\"]\n",
    "result = fruits.extend(fruits1)                                                 # Extend return None.\n",
    "print(result) \n",
    "print(fruits)"
   ]
  },
  {
   "cell_type": "markdown",
   "metadata": {},
   "source": [
    "# 6. CLEAR\n",
    "* This method is used to clear list. \n",
    "* In other words clear function is used to remove all elements from a list.\n",
    "# SYNTAX \n",
    "```\n",
    "list-name.clear()\n",
    "```\n",
    "# RETURN TYPE\n",
    "* None\n"
   ]
  },
  {
   "cell_type": "code",
   "execution_count": 44,
   "metadata": {},
   "outputs": [
    {
     "name": "stdout",
     "output_type": "stream",
     "text": [
      "['Apple', 'Banana', 'Cherry']\n",
      "None\n",
      "[]\n"
     ]
    }
   ],
   "source": [
    "fruits = [\"Apple\",\"Banana\", \"Cherry\"]\n",
    "print(fruits)\n",
    "result = fruits.clear()                                                   # Clear return None\n",
    "print(result)\n",
    "print(fruits)\n"
   ]
  },
  {
   "cell_type": "markdown",
   "metadata": {},
   "source": [
    "# 7. INDEX\n",
    "* This function is used to find the position(index) of a specific element within a list or a string.\n",
    "# SYNTAX\n",
    "```\n",
    "list-name.index(\"element\")\n",
    "```\n",
    "# RETURN TYPE\n",
    "* Index (integer)"
   ]
  },
  {
   "cell_type": "code",
   "execution_count": 49,
   "metadata": {},
   "outputs": [
    {
     "name": "stdout",
     "output_type": "stream",
     "text": [
      "['Apple', 'Banana', 'Cherry']\n",
      "1\n",
      "['Apple', 'Banana', 'Cherry']\n"
     ]
    }
   ],
   "source": [
    "fruits = [\"Apple\", \"Banana\", \"Cherry\"]\n",
    "print(fruits)\n",
    "result = fruits.index(\"Banana\")                                        # Index return the index(integer).\n",
    "print(result)\n",
    "print(fruits)"
   ]
  },
  {
   "cell_type": "markdown",
   "metadata": {},
   "source": [
    "# 8. COUNT \n",
    "* This is used to determine the number of times a specific element within a list or a string.\n",
    "# SYNTAX\n",
    "```\n",
    "list-name.count(element)\n",
    "```\n",
    "# RETURN TYPE\n",
    "* The count() method in Python returns an integer that represents the number of times a specified element appears in a list."
   ]
  },
  {
   "cell_type": "code",
   "execution_count": 54,
   "metadata": {},
   "outputs": [
    {
     "name": "stdout",
     "output_type": "stream",
     "text": [
      "[1, 2, 2, 3, 4, 5, 2, 2]\n",
      "4\n"
     ]
    }
   ],
   "source": [
    "numbers = [1,2,2,3,4,5,2,2]\n",
    "print(numbers)\n",
    "result = numbers.count(2)                                     # Count return an integer\n",
    "print(result)"
   ]
  },
  {
   "cell_type": "code",
   "execution_count": 58,
   "metadata": {},
   "outputs": [
    {
     "name": "stdout",
     "output_type": "stream",
     "text": [
      "2\n"
     ]
    }
   ],
   "source": [
    "fruits = [\"Apple\", \"Banana\", \"Apple\"]\n",
    "result = fruits.count(\"Apple\")                                # Count return an integer.\n",
    "print(result)"
   ]
  },
  {
   "cell_type": "markdown",
   "metadata": {},
   "source": [
    "# 9. SORT\n",
    "* This function is used to arrange the elements of a list in a specific order.\n",
    "* By default, it sorts in ascending order.\n",
    "* The sort function is a method of a list object, means it is applied directly to the list.\n",
    "# SYNTAX\n",
    "```\n",
    "list-name.sort()\n",
    "```\n",
    "# RETURN TYPE\n",
    "* None\n"
   ]
  },
  {
   "cell_type": "code",
   "execution_count": 64,
   "metadata": {},
   "outputs": [
    {
     "name": "stdout",
     "output_type": "stream",
     "text": [
      "[2, 5, 3, 1, 9, 8, 0, 7, 6]\n",
      "None\n",
      "\n",
      "Here is the sorted list: \n",
      "[0, 1, 2, 3, 5, 6, 7, 8, 9]\n"
     ]
    }
   ],
   "source": [
    "numbers = [2,5,3,1,9,8,0,7,6,]\n",
    "print(numbers)\n",
    "result = numbers.sort()                                       # Sort return None.\n",
    "print(result)\n",
    "print(\"\\nHere is the sorted list: \")\n",
    "print(numbers)"
   ]
  },
  {
   "cell_type": "markdown",
   "metadata": {},
   "source": [
    "# 10. REVERSE\n",
    "* This function is specifically used with lists. \n",
    "* It reverses the order of the elements with in a list in place, means it modifies the original list without creating the new one.\n",
    "# SYNTAX\n",
    "```\n",
    "list-name.reverse()\n",
    "```\n",
    "# RETURN TYPE\n",
    "* None\n"
   ]
  },
  {
   "cell_type": "code",
   "execution_count": 69,
   "metadata": {},
   "outputs": [
    {
     "name": "stdout",
     "output_type": "stream",
     "text": [
      "[1, 2, 3, 4, 5, 6, 7, 8, 9]\n",
      "None\n",
      "\n",
      "Here is the reverse ordered list: \n",
      "[9, 8, 7, 6, 5, 4, 3, 2, 1]\n"
     ]
    }
   ],
   "source": [
    "numbers = [1,2,3,4,5,6,7,8,9]\n",
    "print(numbers)\n",
    "result = numbers.reverse()                                                      # Reverse return None.\n",
    "print(result)\n",
    "print(\"\\nHere is the reverse ordered list: \")\n",
    "print(numbers)"
   ]
  }
 ],
 "metadata": {
  "kernelspec": {
   "display_name": "Python 3",
   "language": "python",
   "name": "python3"
  },
  "language_info": {
   "codemirror_mode": {
    "name": "ipython",
    "version": 3
   },
   "file_extension": ".py",
   "mimetype": "text/x-python",
   "name": "python",
   "nbconvert_exporter": "python",
   "pygments_lexer": "ipython3",
   "version": "3.12.7"
  }
 },
 "nbformat": 4,
 "nbformat_minor": 2
}
