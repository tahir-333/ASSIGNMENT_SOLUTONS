{
 "cells": [
  {
   "cell_type": "markdown",
   "metadata": {},
   "source": [
    "# PYTHON BASICS EXERCISES"
   ]
  },
  {
   "cell_type": "markdown",
   "metadata": {},
   "source": [
    "# 1. SIMPLE MESSAGE"
   ]
  },
  {
   "cell_type": "code",
   "execution_count": 1,
   "metadata": {},
   "outputs": [
    {
     "name": "stdout",
     "output_type": "stream",
     "text": [
      "Hello everybody, Today we are going to learn Python by Apna College.\n"
     ]
    }
   ],
   "source": [
    "# Task: Assign a message to a variable and then print that message.\n",
    "\n",
    "message = \"Hello everybody, Today we are going to learn Python by Apna College.\"\n",
    "print(message)"
   ]
  },
  {
   "cell_type": "markdown",
   "metadata": {},
   "source": [
    "# 2. SIMPLE MESSAGES"
   ]
  },
  {
   "cell_type": "code",
   "execution_count": 4,
   "metadata": {},
   "outputs": [
    {
     "name": "stdout",
     "output_type": "stream",
     "text": [
      "There are 365 days in a year.\n",
      "There are 12 months in a year.\n"
     ]
    }
   ],
   "source": [
    "# Task:\n",
    "# ● Assign a message to a variable and print that message.\n",
    "# ● Change the value of the variable to a new message, and print the new message.\n",
    "\n",
    "message = \"There are 365 days in a year.\"\n",
    "print(message)\n",
    "new_message = \"There are 12 months in a year.\"\n",
    "print(new_message)"
   ]
  },
  {
   "cell_type": "markdown",
   "metadata": {},
   "source": [
    "# 3. PERSONAL MESSAGE"
   ]
  },
  {
   "cell_type": "code",
   "execution_count": 5,
   "metadata": {},
   "outputs": [
    {
     "name": "stdout",
     "output_type": "stream",
     "text": [
      "Hello Tahir, would you like to learn some Python today?\n"
     ]
    }
   ],
   "source": [
    "# Task:\n",
    "# ● Use a variable to represent a person’s name.\n",
    "# ● Print a message to that person, such as, “Hello Eric, would you like to learn some\n",
    "# Python today?”\n",
    "\n",
    "name = \"Tahir\"\n",
    "message = f\"Hello {name}, would you like to learn some Python today?\"\n",
    "print(message)"
   ]
  },
  {
   "cell_type": "markdown",
   "metadata": {},
   "source": [
    "# 4. NAME CASES"
   ]
  },
  {
   "cell_type": "code",
   "execution_count": 6,
   "metadata": {},
   "outputs": [
    {
     "name": "stdout",
     "output_type": "stream",
     "text": [
      "TAHIR ABBAS\n",
      "tahir abbas\n",
      "Tahir Abbas\n"
     ]
    }
   ],
   "source": [
    "# Task:\n",
    "# ● Use a variable to represent a person’s name.\n",
    "# ● Print the person’s name in lowercase, uppercase, and title case.\n",
    "\n",
    "name = \"tahir abbas\"\n",
    "print(name.upper())\n",
    "print(name.lower())\n",
    "print(name.title())\n",
    "\n"
   ]
  },
  {
   "cell_type": "markdown",
   "metadata": {},
   "source": [
    "# 5. FAMOUS QUOTE"
   ]
  },
  {
   "cell_type": "code",
   "execution_count": 10,
   "metadata": {},
   "outputs": [
    {
     "name": "stdout",
     "output_type": "stream",
     "text": [
      "Albert Einstein once said, 'A person who never made a mistake never tried anything new.'\n"
     ]
    }
   ],
   "source": [
    "# Task:\n",
    "# ● Find a quote from a famous person you admire.\n",
    "# ● Print the quote and the name of its author.\n",
    "# The output should look something like the following:\n",
    "# Albert Einstein once said, “A person who never made a mistake never\n",
    "# tried anything new.”\n",
    "\n",
    "\n",
    "name = \"Albert Einstein\"\n",
    "# quote = \"A person who never made a mistake never tried anything new.\"\n",
    "print(f\"{name} once said, 'A person who never made a mistake never tried anything new.'\")"
   ]
  },
  {
   "cell_type": "markdown",
   "metadata": {},
   "source": [
    "# 6. FAMOUS QUOTE 2"
   ]
  },
  {
   "cell_type": "code",
   "execution_count": 13,
   "metadata": {},
   "outputs": [
    {
     "data": {
      "text/plain": [
       "'A person who never made a mistake never tried anything new.'"
      ]
     },
     "metadata": {},
     "output_type": "display_data"
    }
   ],
   "source": [
    "# Task:\n",
    "# ● Use a variable called famous_person to represent the famous person’s name.\n",
    "# ● Compose the message and represent it with a variable called message.\n",
    "# ● Print the message.\n",
    "\n",
    "famous_person = \"Albert Einstein\"\n",
    "message = \"A person who never made a mistake never tried anything new.\"\n",
    "display(message)"
   ]
  },
  {
   "cell_type": "markdown",
   "metadata": {},
   "source": [
    "# 7. STRIPPING NAMES"
   ]
  },
  {
   "cell_type": "code",
   "execution_count": 32,
   "metadata": {},
   "outputs": [
    {
     "name": "stdout",
     "output_type": "stream",
     "text": [
      "Original name with whitespaces:\n",
      "'\tTahir\n",
      "Abbas    '\n",
      "\n",
      "Name after use of lstrip():\n",
      "'Tahir\n",
      "Abbas    '\n",
      "\n",
      "Name after the use of rstrip():\n",
      "'\tTahir\n",
      "Abbas'\n",
      "\n",
      "Name after the use of strip():\n",
      "'Tahir\n",
      "Abbas'\n"
     ]
    }
   ],
   "source": [
    "# Task:\n",
    "# ● Use a variable to represent a person’s name, and include some whitespace characters\n",
    "# at the beginning and end of the name.\n",
    "# ● Make sure you use each character combination, \\t and \\n, at least once.\n",
    "# ● Print the name once, so the whitespace around the name is displayed.\n",
    "# ● Print the name using each of the three stripping functions: lstrip(), rstrip(), and\n",
    "# strip().\n",
    "\n",
    "print(\"Original name with whitespaces:\")\n",
    "name = \"\\tTahir\\nAbbas    \"\n",
    "print(f\"'{name}'\")\n",
    "print(\"\\nName after use of lstrip():\")\n",
    "print(f\"'{name.lstrip()}'\")\n",
    "print(\"\\nName after the use of rstrip():\")\n",
    "print(f\"'{name.rstrip()}'\")\n",
    "print(\"\\nName after the use of strip():\")\n",
    "print(f\"'{name.strip()}'\")"
   ]
  },
  {
   "cell_type": "markdown",
   "metadata": {},
   "source": [
    "# 8. VARIABLE SUM"
   ]
  },
  {
   "cell_type": "code",
   "execution_count": 33,
   "metadata": {},
   "outputs": [
    {
     "name": "stdout",
     "output_type": "stream",
     "text": [
      "30\n"
     ]
    }
   ],
   "source": [
    "# Task: Assign the values 5, 10, and 15 to three variables x, y, and z. Print their sum.\n",
    "\n",
    "x = 5\n",
    "y = 10\n",
    "z = 15\n",
    "sum = x + y + z\n",
    "print(sum)"
   ]
  },
  {
   "cell_type": "markdown",
   "metadata": {},
   "source": [
    "# 9. VARIABLE SWAP"
   ]
  },
  {
   "cell_type": "code",
   "execution_count": 39,
   "metadata": {},
   "outputs": [
    {
     "name": "stdout",
     "output_type": "stream",
     "text": [
      "Before swap:\n",
      "5, 10\n",
      "\n",
      "After swap\n",
      "10, 5\n"
     ]
    }
   ],
   "source": [
    "# Task: Swap the values of two variables a and b. Print the values before and after the swap.\n",
    "\n",
    "a = 5\n",
    "b = 10\n",
    "print(\"Before swap:\")\n",
    "print(f\"{a}, {b}\")\n",
    "\n",
    "a, b = b, a\n",
    "\n",
    "print(\"\\nAfter swap\")\n",
    "print(f\"{a}, {b}\")"
   ]
  },
  {
   "cell_type": "markdown",
   "metadata": {},
   "source": [
    "# 10. FAVORITE COLOR"
   ]
  },
  {
   "cell_type": "code",
   "execution_count": 41,
   "metadata": {},
   "outputs": [
    {
     "name": "stdout",
     "output_type": "stream",
     "text": [
      "Blue\n",
      "Blue\n"
     ]
    }
   ],
   "source": [
    "# Task: Create a variable with your favorite color and print it. Then change the variable name to\n",
    "# something else and print the color again.\n",
    "\n",
    "favorite_color = \"Blue\"\n",
    "print(favorite_color)\n",
    "color = \"Blue\"\n",
    "print(color)"
   ]
  },
  {
   "cell_type": "markdown",
   "metadata": {},
   "source": [
    "# 11. CHANGING PET NAME"
   ]
  },
  {
   "cell_type": "code",
   "execution_count": 49,
   "metadata": {},
   "outputs": [
    {
     "name": "stdout",
     "output_type": "stream",
     "text": [
      "Max\n"
     ]
    }
   ],
   "source": [
    "# Task: Create a variable pet_name and set it to \"Buddy\". Change the value of pet_name to\n",
    "# \"Max\" and print the new value.\n",
    "\n",
    "pet_name = \"Buddy\"\n",
    "pet_name = \"Max\"\n",
    "print(pet_name)"
   ]
  },
  {
   "cell_type": "markdown",
   "metadata": {},
   "source": [
    "# 12. OBSERVING NAME ERROR"
   ]
  },
  {
   "cell_type": "code",
   "execution_count": 52,
   "metadata": {},
   "outputs": [
    {
     "name": "stdout",
     "output_type": "stream",
     "text": [
      "Sunshine\n"
     ]
    },
    {
     "ename": "NameError",
     "evalue": "name 'sunshine' is not defined",
     "output_type": "error",
     "traceback": [
      "\u001b[1;31m---------------------------------------------------------------------------\u001b[0m",
      "\u001b[1;31mNameError\u001b[0m                                 Traceback (most recent call last)",
      "Cell \u001b[1;32mIn[52], line 8\u001b[0m\n\u001b[0;32m      6\u001b[0m Sunshine \u001b[38;5;241m=\u001b[39m \u001b[38;5;124m\"\u001b[39m\u001b[38;5;124mSunshine\u001b[39m\u001b[38;5;124m\"\u001b[39m\n\u001b[0;32m      7\u001b[0m \u001b[38;5;28mprint\u001b[39m(Sunshine)\n\u001b[1;32m----> 8\u001b[0m \u001b[38;5;28mprint\u001b[39m(\u001b[43msunshine\u001b[49m)\n",
      "\u001b[1;31mNameError\u001b[0m: name 'sunshine' is not defined"
     ]
    }
   ],
   "source": [
    "# 12. Observing Name Error\n",
    "# Task: Assign the value \"Sunshine\" to a variable and print it. Then, mistakenly try to print a\n",
    "# variable with a different name (like sunsine) and observe the error.\n",
    "\n",
    "\n",
    "Sunshine = \"Sunshine\"\n",
    "print(Sunshine)\n",
    "print(sunshine)\n"
   ]
  },
  {
   "cell_type": "markdown",
   "metadata": {},
   "source": [
    "# 13. REASSIGNING SCORE"
   ]
  },
  {
   "cell_type": "code",
   "execution_count": 54,
   "metadata": {},
   "outputs": [
    {
     "name": "stdout",
     "output_type": "stream",
     "text": [
      "100\n",
      "200\n"
     ]
    }
   ],
   "source": [
    "# Task: Assign the value 100 to a variable score and print it. Then assign a new value to score\n",
    "# and print it again.\n",
    "\n",
    "score = 100\n",
    "print(score)\n",
    "score = 200\n",
    "print(score)"
   ]
  },
  {
   "cell_type": "markdown",
   "metadata": {},
   "source": [
    "# 14. CITY NAME"
   ]
  },
  {
   "cell_type": "code",
   "execution_count": 55,
   "metadata": {},
   "outputs": [
    {
     "name": "stdout",
     "output_type": "stream",
     "text": [
      "Islamabad\n"
     ]
    }
   ],
   "source": [
    "# Task: Create a string variable city and assign it the name of a city you like. Print the city\n",
    "# name.\n",
    "\n",
    "city = \"Islamabad\"\n",
    "print(city)"
   ]
  },
  {
   "cell_type": "markdown",
   "metadata": {},
   "source": [
    "# 15. TITLE CASE TEXT"
   ]
  },
  {
   "cell_type": "code",
   "execution_count": 56,
   "metadata": {},
   "outputs": [
    {
     "name": "stdout",
     "output_type": "stream",
     "text": [
      "Python Programming\n"
     ]
    }
   ],
   "source": [
    "# Task: Create a variable text with the value \"python programming\" and print it in title case.\n",
    "\n",
    "text = \"python programming\"\n",
    "print(text.title())"
   ]
  },
  {
   "cell_type": "markdown",
   "metadata": {},
   "source": [
    "# 16. LOWERCASE CONVERSION"
   ]
  },
  {
   "cell_type": "code",
   "execution_count": 58,
   "metadata": {},
   "outputs": [
    {
     "name": "stdout",
     "output_type": "stream",
     "text": [
      "tahir abbas\n"
     ]
    }
   ],
   "source": [
    "# Task: Assign a string with mixed cases to a variable and print it in all lowercase letters.\n",
    "\n",
    "mixed_case = \"tAhir aBBas\"\n",
    "print(mixed_case.lower())"
   ]
  },
  {
   "cell_type": "markdown",
   "metadata": {},
   "source": [
    "# 17. UPPERCASE CONVERSION"
   ]
  },
  {
   "cell_type": "code",
   "execution_count": 59,
   "metadata": {},
   "outputs": [
    {
     "name": "stdout",
     "output_type": "stream",
     "text": [
      "PYTHON PROGRAMMING\n"
     ]
    }
   ],
   "source": [
    "# Task: Assign a string with mixed cases to a variable and print it in all uppercase letters.\n",
    "\n",
    "mixed_case = \"pyThon PROGramming\"\n",
    "print(mixed_case.upper())\n",
    "\n"
   ]
  },
  {
   "cell_type": "markdown",
   "metadata": {},
   "source": [
    "# 18. CURRENT TEMPERATURE"
   ]
  },
  {
   "cell_type": "code",
   "execution_count": 60,
   "metadata": {},
   "outputs": [
    {
     "name": "stdout",
     "output_type": "stream",
     "text": [
      "The current temperature is 25 degrees.\n"
     ]
    }
   ],
   "source": [
    "# Task: Create a variable temperature with the value 25. Print \"The current temperature is\n",
    "# [temperature] degrees.\" using the variable.\n",
    "\n",
    "temperature = 25\n",
    "print(f\"The current temperature is {temperature} degrees.\")"
   ]
  },
  {
   "cell_type": "markdown",
   "metadata": {},
   "source": [
    "# 19. PRINTING A POEM"
   ]
  },
  {
   "cell_type": "code",
   "execution_count": 61,
   "metadata": {},
   "outputs": [
    {
     "name": "stdout",
     "output_type": "stream",
     "text": [
      "Here’s a short poem about rain:\n",
      "\n",
      "Gentle Rain\n",
      "\n",
      "The sky pours down a silver stream,\n",
      "A quiet world, like in a dream.\n",
      "Each drop a kiss upon the ground,\n",
      "With soft and soothing, rhythmic sound.\n",
      "\n",
      "The flowers bow, the trees all sway,\n",
      "The earth drinks deep throughout the day.\n",
      "In every puddle, skies reflect,\n",
      "A moment nature will protect.\n"
     ]
    }
   ],
   "source": [
    "# Task: Create a variable poem with a short poem that has multiple lines. Print the poem with\n",
    "# each line starting on a new line.\n",
    "\n",
    "\n",
    "poem = \"\"\"Here’s a short poem about rain:\n",
    "\n",
    "Gentle Rain\n",
    "\n",
    "The sky pours down a silver stream,\n",
    "A quiet world, like in a dream.\n",
    "Each drop a kiss upon the ground,\n",
    "With soft and soothing, rhythmic sound.\n",
    "\n",
    "The flowers bow, the trees all sway,\n",
    "The earth drinks deep throughout the day.\n",
    "In every puddle, skies reflect,\n",
    "A moment nature will protect.\"\"\"\n",
    "\n",
    "print(poem)"
   ]
  }
 ],
 "metadata": {
  "kernelspec": {
   "display_name": "Python 3",
   "language": "python",
   "name": "python3"
  },
  "language_info": {
   "codemirror_mode": {
    "name": "ipython",
    "version": 3
   },
   "file_extension": ".py",
   "mimetype": "text/x-python",
   "name": "python",
   "nbconvert_exporter": "python",
   "pygments_lexer": "ipython3",
   "version": "3.12.7"
  }
 },
 "nbformat": 4,
 "nbformat_minor": 2
}
